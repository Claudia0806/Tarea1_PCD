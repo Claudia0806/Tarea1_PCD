{
 "cells": [
  {
   "cell_type": "markdown",
   "id": "a2739b30",
   "metadata": {},
   "source": [
    "<img style=\"float: right; margin: 0px 0px 15px 15px;\" src=\"https://miro.medium.com/max/1280/0*z0NDJqoh9nz7FKbF.jpg\" width=\"350px\" height=\"180px\" />\n",
    "\n",
    "# <font color= #00008B> Proyecto de Ciencia de Datos </font>\n",
    " \n",
    "Claudia Celeste Castillejos Jáuregui - 735868\n",
    "\n",
    "claudia.castillejos@iteso.mx\n",
    "\n",
    "Fecha : 21/08/2022"
   ]
  },
  {
   "cell_type": "markdown",
   "id": "5775f294",
   "metadata": {},
   "source": [
    "## Tarea 1\n",
    "\n",
    "Crear un nuevo repositorio en su cuenta de `GitHub` llamado `Tarea1_PCD`. En dicho proyecto añadir un notebook de jupyter que debe contener lo siguiente:\n",
    "\n",
    "1. Un resumen de al menos uno de los siguientes artículos donde se resalta la importancia del despliegue en producción de proyectos de ML:\n",
    "    - https://odsc.medium.com/what-are-mlops-and-why-does-it-matter-8cff060d4067\n",
    "    - https://medium.com/@selfouly/mlops-done-right-47cec1dbfc8d\n",
    "    - https://towardsdatascience.com/a-gentle-introduction-to-mlops-7d64a3e890ff\n",
    "    - https://valohai.com/blog/why-mlops-is-vital-to-your-development-team/\n",
    "    \n",
    "\n",
    "2. El repositorio debe contener al menos 2 `commits` detallados de los cambios hechos en el notebook de jupyter.\n",
    "\n",
    "\n",
    "3. El nombre del archivo debe ser el siguiente T1PrimerNombrePrimerApellido, en mi caso sería T1CristianZapata.\n",
    "\n",
    "4. El archivo debe existir en una rama que se llame `feature-1` adicional a la rama principal `master`.\n",
    "\n",
    "5. La rama `master` debe tener un archivo `README.md` con información acerca del repositorio (¿Qué contiene el repo? ¿Qué ramas existen? ¿Para qué se hizo?)\n",
    "\n",
    "\n",
    "Recuerde el uso de la sintáxis Markdown: [https://www.markdownguide.org/cheat-sheet/](https://www.markdownguide.org/cheat-sheet/)\n",
    "\n",
    "\n",
    "**ENTREGABLE: SE DEBE SUBIR EL ENLACE DE GITHUB AL REPOSITORIO INDICADO.**\n"
   ]
  },
  {
   "cell_type": "markdown",
   "id": "31afa956",
   "metadata": {},
   "source": [
    "## Resumen\n",
    "El articulo habla sobre el Machine Learning Operations más conocido como MLOps y su importancia en su implementación. Para empezar, el MLOps es una forma de comunicación entre científicos de datos y equipo de operaciones y procesos de una empresa. Este concepto por su naturaleza es colaborativo, diseñado para automatizar procesos y producir conocimientos más consistentes con el aprendizaje automático.\n",
    "\n",
    "MLOps fomenta el interés comercial al frente de sus operaciones de aprendizaje automático mientras que los científicos de datos son quienes trabajan a través del interés organizacional con una dirección clara y puntos de referencia cuantificables. Machine Learning Operations permite que los científicos de datos construyan e implementen modelos con la libertad de encontrar soluciones óptimas que los evadan de tomar decisiones comerciales. Se contratan científicos de datos por sus habilidades en la recopilación de información, eliminación de barreras y asertividad de respuestas clave mientras que los MLOps genera conocimientos en los que puede confiar y poner decisiones comerciales.\n",
    "\n",
    "### Beneficios del enfoque MLOps\t\n",
    "* Combinar las experiencias de ambos campos para un aprendizaje automático más eficiente que aproveche las habilidades del equipo operacional y del equipo de ciencia de datos en conjunto con sus habilidades.\n",
    "\n",
    "* MLOps pone a su equipo de operaciones a la vanguardia de las nuevas regulaciones y pueden hacerse cargo de los procesos normativos mientras su equipo de ciencia de datos se concentra en implementar modelos creativos.\n",
    "\n",
    "* Mejor desempeño en los algoritmos aplicados gracias a la división de experiencia y mayor colaboración entre los equipos de operaciones y datos. MLOps agiliza la implementación de esos programas y sabe cuáles poner en producción.\n",
    "\n",
    "### Algunas consideraciones antes de incorporar MLOps en sus aplicaciones.\n",
    "* Los puntos de referencia deben ser claros para los KPI. Para que los equipos entiendan lo que está en juego y utilicen el conocimiento para avanzar.\n",
    "\n",
    "* El monitoreo del ML está bajo la supervisión de un sistema operativo capaz de no generar ninguna confusión.\n",
    "\n",
    "* Se asegura el cumplimiento bajo un plan integral de gobierno para garantizar que sus programas sean auditables y ayudar con los lineamientos legales de la empresa.\n",
    "\n",
    "Es indispensable asumir la responsabilidad del aprendizaje automático, para que el equipo de operaciones sepa cómo abordar esta nueva era de los datos y el equipo de datos esté totalmente respaldado para hacer un análisis predictivo rentable.\n",
    "\n",
    "\n",
    "\n",
    "\n"
   ]
  },
  {
   "cell_type": "markdown",
   "id": "e89759cf",
   "metadata": {},
   "source": [
    "Referencia:\n",
    "\n",
    "https://odsc.medium.com/what-are-mlops-and-why-does-it-matter-8cff060d4067"
   ]
  },
  {
   "cell_type": "code",
   "execution_count": null,
   "id": "81dfa5d0",
   "metadata": {},
   "outputs": [],
   "source": []
  }
 ],
 "metadata": {
  "kernelspec": {
   "display_name": "Python 3 (ipykernel)",
   "language": "python",
   "name": "python3"
  },
  "language_info": {
   "codemirror_mode": {
    "name": "ipython",
    "version": 3
   },
   "file_extension": ".py",
   "mimetype": "text/x-python",
   "name": "python",
   "nbconvert_exporter": "python",
   "pygments_lexer": "ipython3",
   "version": "3.8.5"
  }
 },
 "nbformat": 4,
 "nbformat_minor": 5
}
